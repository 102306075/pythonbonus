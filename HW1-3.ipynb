{
 "cells": [
  {
   "cell_type": "code",
   "execution_count": 7,
   "metadata": {},
   "outputs": [
    {
     "name": "stdout",
     "output_type": "stream",
     "text": [
      "Requirement already satisfied: jieba in d:\\anaconda3\\lib\\site-packages\n",
      "Full Mode: 指/ 紋/ 辨/ 識/ 廠/ 神/ 盾/ / / 6462/ TW/ / / 公告/ 第/ / 3/ / 季/ 財/ 報/ / / 稅/ 後/ 純/ 益/ 為/ / 1/ 74/ / 億/ 元/ / / 季/ 增/ / 1/ 32/ / 倍/ / / 每股/ 純/ 益/ / 2/ 5/ / 元/ / / 前/ / 3/ / 季/ 純/ 益/ 為/ / 4/ 34/ / 億/ 元/ / / 較/ 去年/ 去年同期/ 同期/ 虧/ 損/ 改善/ / / 每股/ 純/ 益/ / 6/ 22/ / 元/ / \n",
      "/ 神/ 盾/ 指/ 紋/ 辨/ 識/ 產/ 品/ 受惠/ 三星/ 拉/ 貨/ / / 加上/ 也/ 打入/ 中/ 國/ 大/ 陸/ 手/ 機/ 客/ 戶/ 供/ 應/ 鏈/ 中/ / / 第/ / 3/ / 季/ 營/ 收/ 達/ / 14/ 17/ / 億/ 元/ / / 季/ 增/ / 62/ / / 毛利/ 毛利率/ 利率/ 也/ 隨/ 規/ 模/ 拉升/ 而/ 提升/ / / 達/ / 37/ 93/ / / 季/ 增/ / 2/ 98/ / 個/ 百分/ 點/ / / 稅/ 後/ 純/ 益/ 為/ / 1/ 74/ / 億/ 元/ / / 季/ 增/ / 1/ 32/ / 倍/ / / 每股/ 純/ 益/ / 2/ 5/ / 元/ / \n",
      "/ 神/ 盾/ 在/ 第/ / 3/ / 季/ 表/ 現/ 升/ 溫/ 帶/ 動/ 下/ / / 前/ / 3/ / 季/ 營/ 收/ 為/ / 34/ 77/ / 億/ 元/ / / 較/ 去年/ 大幅/ 增加/ / 3/ 4/ / 倍/ / / 毛利/ 毛利率/ 利率/ / 37/ 94/ / / 年/ 減/ / 10/ 87/ / 個/ 百分/ 點/ / / 營/ 益/ 率/ / 16/ 44/ / / 較/ 去年/ 去年同期/ 同期/ 虧/ 損/ 改善/ / / 稅/ 後/ 純/ 益/ 為/ / 4/ 34/ / 億/ 元/ / / 也/ 擺/ 脫/ 去年/ 去年同期/ 同期/ 虧/ 損/ / 6564/ / 萬/ 元/ / / 每股/ 純/ 益/ 為/ / 6/ 22/ / 元/ / \n",
      "\n"
     ]
    }
   ],
   "source": [
    "!pip install jieba\n",
    "\n",
    "import util\n",
    "import jieba\n",
    "\n",
    "\n",
    "news_text = util.get_news_article('https://news.cnyes.com/news/id/3958480')\n",
    "news_text \n",
    "\n",
    "seg_list = jieba.cut(news_text , cut_all=True)\n",
    "print(\"Full Mode: \" + \"/ \".join(seg_list))  # 全模式"
   ]
  },
  {
   "cell_type": "code",
   "execution_count": 8,
   "metadata": {
    "scrolled": true
   },
   "outputs": [
    {
     "name": "stdout",
     "output_type": "stream",
     "text": [
      "億元 0.7882264287626373\n",
      "季增 0.5254842858417582\n",
      "純益 0.5254842858417582\n",
      "神盾 0.39411321438131863\n",
      "稅後純益 0.39411321438131863\n",
      "虧損 0.39411321438131863\n",
      "每股 0.2813738180826374\n",
      "指紋 0.2627421429208791\n",
      "1.74 0.2627421429208791\n",
      "1.32 0.2627421429208791\n",
      "2.5 0.2627421429208791\n",
      "4.34 0.2627421429208791\n",
      "6.22 0.2627421429208791\n",
      "季營 0.2627421429208791\n",
      "百分 0.2432409738\n",
      "去年同期 0.23719907331164836\n",
      "毛利率 0.17051956585472527\n",
      "辨識廠 0.13137107146043955\n",
      "6462 0.13137107146043955\n",
      "TW 0.13137107146043955\n"
     ]
    }
   ],
   "source": [
    "\n",
    "s=news_text\n",
    "\n",
    "for x, w in jieba.analyse.extract_tags(s, withWeight=True):\n",
    "    print('%s %s' % (x, w))"
   ]
  },
  {
   "cell_type": "code",
   "execution_count": 9,
   "metadata": {},
   "outputs": [
    {
     "name": "stdout",
     "output_type": "stream",
     "text": [
      "辨識 1.0\n",
      "虧損 0.9370884345795051\n",
      "季營 0.9045948174489553\n",
      "改善 0.8094204149909657\n",
      "去年同期 0.7902605333220877\n",
      "大陸 0.7489669115339022\n",
      "中國 0.7438816118713165\n",
      "規模 0.73424328640911\n",
      "拉升 0.7262425129728001\n",
      "打入 0.6374397845432169\n",
      "手機 0.6297664916333252\n",
      "客戶 0.6283183023383149\n",
      "純益 0.628084361516824\n",
      "現升溫 0.6181622679721009\n",
      "帶動 0.6153567583137534\n",
      "季表 0.6122332067482943\n",
      "指紋 0.5208623458885769\n",
      "產品 0.5208623458885769\n",
      "廠神 0.5182983010016172\n",
      "受惠 0.5182983010016172\n"
     ]
    }
   ],
   "source": [
    "\n",
    "for x, w in jieba.analyse.textrank(s, withWeight=True):\n",
    "    print('%s %s' % (x, w))"
   ]
  },
  {
   "cell_type": "code",
   "execution_count": null,
   "metadata": {
    "collapsed": true
   },
   "outputs": [],
   "source": []
  }
 ],
 "metadata": {
  "kernelspec": {
   "display_name": "Python 3",
   "language": "python",
   "name": "python3"
  },
  "language_info": {
   "codemirror_mode": {
    "name": "ipython",
    "version": 3
   },
   "file_extension": ".py",
   "mimetype": "text/x-python",
   "name": "python",
   "nbconvert_exporter": "python",
   "pygments_lexer": "ipython3",
   "version": "3.6.2"
  }
 },
 "nbformat": 4,
 "nbformat_minor": 2
}
